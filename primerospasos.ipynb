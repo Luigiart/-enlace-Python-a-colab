[![Open In Colab](https://colab.research.google.com/drive/1Ej4iWhfxVOQLeLYqgTxpJjMrrFxeCo0B?hl=es#scrollTo=gGFvKJNYxr_E)

